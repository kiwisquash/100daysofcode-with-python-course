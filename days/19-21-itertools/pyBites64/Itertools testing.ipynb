{
 "cells": [
  {
   "cell_type": "code",
   "execution_count": 1,
   "metadata": {},
   "outputs": [],
   "source": [
    "from itertools import zip_longest"
   ]
  },
  {
   "cell_type": "code",
   "execution_count": 8,
   "metadata": {},
   "outputs": [
    {
     "name": "stdout",
     "output_type": "stream",
     "text": [
      "(0, 0)\n",
      "(1, 1)\n",
      "(2, 2)\n",
      "(3, 3)\n",
      "(4, 4)\n",
      "(5, 5)\n",
      "(6, 6)\n",
      "(7, 7)\n",
      "(8, 8)\n",
      "(9, 9)\n"
     ]
    }
   ],
   "source": [
    "for i in enumerate(range(10)):\n",
    "    print(i)"
   ]
  },
  {
   "cell_type": "code",
   "execution_count": 10,
   "metadata": {},
   "outputs": [
    {
     "name": "stdout",
     "output_type": "stream",
     "text": [
      "5 is Truthy\n",
      "4 is Truthy\n",
      "3 is Truthy\n",
      "2 is Truthy\n",
      "1 is Truthy\n",
      "0 is Falsey\n",
      "-1 is Truthy\n",
      "-2 is Truthy\n",
      "-3 is Truthy\n",
      "-4 is Truthy\n",
      "-5 is Truthy\n",
      "-6 is Truthy\n",
      "-7 is Truthy\n",
      "-8 is Truthy\n",
      "-9 is Truthy\n"
     ]
    }
   ],
   "source": [
    "i = 5\n",
    "while i > -10:\n",
    "    if i:\n",
    "        print(f\"{i} is Truthy\")\n",
    "    else:\n",
    "        print(f\"{i} is Falsey\")\n",
    "    i -=1"
   ]
  },
  {
   "cell_type": "code",
   "execution_count": 11,
   "metadata": {},
   "outputs": [],
   "source": [
    "iter?"
   ]
  },
  {
   "cell_type": "code",
   "execution_count": 33,
   "metadata": {},
   "outputs": [],
   "source": [
    "what = [iter(\"fis\"),iter(\"cake\")]"
   ]
  },
  {
   "cell_type": "code",
   "execution_count": 29,
   "metadata": {},
   "outputs": [
    {
     "name": "stdout",
     "output_type": "stream",
     "text": [
      "f\n",
      "c\n"
     ]
    }
   ],
   "source": [
    "for i, it in enumerate(what):\n",
    "    print(next(it))"
   ]
  },
  {
   "cell_type": "code",
   "execution_count": 34,
   "metadata": {},
   "outputs": [
    {
     "name": "stdout",
     "output_type": "stream",
     "text": [
      "(0, <str_iterator object at 0x110b84dd8>)\n",
      "(1, <str_iterator object at 0x110b84e48>)\n"
     ]
    }
   ],
   "source": [
    "for i in enumerate(what):\n",
    "    print(i)"
   ]
  },
  {
   "cell_type": "code",
   "execution_count": 39,
   "metadata": {},
   "outputs": [
    {
     "name": "stdout",
     "output_type": "stream",
     "text": [
      "('f', 'c', 'j')\n",
      "('i', 'a', 'o')\n",
      "('s', 'k', '-')\n",
      "('-', 'e', '-')\n"
     ]
    }
   ],
   "source": [
    "for i in zip_longest(\"fis\",\"cake\",\"jo\",fillvalue=\"-\"):\n",
    "    print(i)"
   ]
  },
  {
   "cell_type": "code",
   "execution_count": null,
   "metadata": {},
   "outputs": [],
   "source": []
  }
 ],
 "metadata": {
  "kernelspec": {
   "display_name": "Python 3",
   "language": "python",
   "name": "python3"
  },
  "language_info": {
   "codemirror_mode": {
    "name": "ipython",
    "version": 3
   },
   "file_extension": ".py",
   "mimetype": "text/x-python",
   "name": "python",
   "nbconvert_exporter": "python",
   "pygments_lexer": "ipython3",
   "version": "3.7.0"
  }
 },
 "nbformat": 4,
 "nbformat_minor": 2
}
